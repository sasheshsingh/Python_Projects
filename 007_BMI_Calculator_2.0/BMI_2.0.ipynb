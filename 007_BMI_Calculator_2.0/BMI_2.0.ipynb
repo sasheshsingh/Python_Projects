{
 "cells": [
  {
   "cell_type": "code",
   "execution_count": 11,
   "metadata": {},
   "outputs": [
    {
     "name": "stdout",
     "output_type": "stream",
     "text": [
      "----------BMI Calculator----------\n",
      "-----------------------------------\n"
     ]
    },
    {
     "name": "stdin",
     "output_type": "stream",
     "text": [
      "Enter your weight in kg\n",
      " 79\n",
      "Enter your height in m:\n",
      " 1\n"
     ]
    },
    {
     "name": "stdout",
     "output_type": "stream",
     "text": [
      "Your BMI is 79.00. You are clinically obese.\n",
      "-----------------------------------\n"
     ]
    }
   ],
   "source": [
    "print(10*\"-\"+\"BMI Calculator\"+10*\"-\")\n",
    "print(35*\"-\")\n",
    "weight = float(input(\"Enter your weight in kg\\n\"))\n",
    "height = float(input(\"Enter your height in m:\\n\"))\n",
    "\n",
    "bmi = weight / pow(height,2)\n",
    "#Or\n",
    "bmi = weight / height ** 2\n",
    "#Or\n",
    "bmi = weight / (height * height)\n",
    "\n",
    "if bmi < 18:\n",
    "    print(\"Your BMI is {:.3f}. You are underweight.\".format(bmi))\n",
    "elif bmi < 25:\n",
    "    print(\"Your BMI is {:.2f}. You have a normal weight.\".format(bmi))\n",
    "elif bmi < 30:\n",
    "    print(\"Your BMI is {:.2f}. You are overweight.\".format(bmi))\n",
    "elif bmi < 35:\n",
    "    print(\"Your BMI is {:.2f}. You are obese.\".format(bmi))\n",
    "else:\n",
    "    print(\"Your BMI is {:.2f}. You are clinically obese.\".format(bmi))\n",
    "print(35*\"-\")"
   ]
  }
 ],
 "metadata": {
  "kernelspec": {
   "display_name": "Python 3",
   "language": "python",
   "name": "python3"
  },
  "language_info": {
   "codemirror_mode": {
    "name": "ipython",
    "version": 3
   },
   "file_extension": ".py",
   "mimetype": "text/x-python",
   "name": "python",
   "nbconvert_exporter": "python",
   "pygments_lexer": "ipython3",
   "version": "3.8.5"
  }
 },
 "nbformat": 4,
 "nbformat_minor": 4
}
