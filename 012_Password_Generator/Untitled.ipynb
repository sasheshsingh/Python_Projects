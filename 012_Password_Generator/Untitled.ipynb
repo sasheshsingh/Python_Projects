{
 "cells": [
  {
   "cell_type": "code",
   "execution_count": 3,
   "metadata": {},
   "outputs": [],
   "source": [
    "import random\n",
    "letters =[\"a\",\"\",\"b\",\"c\",\"d\",\"e\",\"f\",\"g\",\"h\",\"i\",\"j\",\"k\",\"l\",\"m\",\"n\",\"o\",\"p\",\"q\",\"r\",\"s\",\"t\",\"u\",\"v\",\"w\",\"x\",\"y\",\"z\",\"A\",\"B\",\"C\",\"D\",\"E\",\"F\",\"G\",\"H\",\"I\",\"J\",\"K\",\"L\",\"M\",\"N\",\"O\",\"P\",\"Q\",\"R\",\"S\",\"T\",\"U\",\"V\",\"W\",\"X\",\"Y\",\"Z\"]\n",
    "numbers = [0,1,2,3,4,5,6,7,8,9]\n",
    "symbols = [\"/\",\"'\",\"&\",\"%\",\"$\",\"@\",\"#\"]"
   ]
  },
  {
   "cell_type": "code",
   "execution_count": 4,
   "metadata": {},
   "outputs": [
    {
     "name": "stdout",
     "output_type": "stream",
     "text": [
      "----------------------------------------\n",
      "Welcome to the PyPassword Generator\n",
      "----------------------------------------\n"
     ]
    },
    {
     "name": "stdin",
     "output_type": "stream",
     "text": [
      "How many total charactes would you like in your password?\n",
      " 200\n",
      "How many symbols do you want in your password?\n",
      " 50\n",
      "How many numbers do you want in your password?\n",
      " 100\n"
     ]
    },
    {
     "name": "stdout",
     "output_type": "stream",
     "text": [
      "Your generated Password is j31/&2JB66@4T6'$i62'6%U/##9j&S8e569%61749731/230I6F$8$bcE004'4C295I7%0&m@M1m6@/&379#&53946'U9%8y9P3vd8740&4J/73x9#6/$kwa'843$h777W53F52A&z92298#7S6/7@33u2%kJU%88Q08j/807''9E3@n&%$2gj2&8#'$j8973862\n"
     ]
    }
   ],
   "source": [
    "print(40* \"-\")\n",
    "print(\"Welcome to the PyPassword Generator\")\n",
    "print(40* \"-\")\n",
    "n_letters = int(input(\"How many total charactes would you like in your password?\\n\"))\n",
    "n_symbols = int(input(\"How many symbols do you want in your password?\\n\"))\n",
    "n_numbers = int(input(\"How many numbers do you want in your password?\\n\"))\n",
    "\n",
    "password_list = []\n",
    "for i in range(n_numbers):\n",
    "    password_list.append(random.randint(0,9))\n",
    "for i in range(n_symbols):\n",
    "    password_list.append(random.choice(symbols))\n",
    "for i in range(n_letters-n_symbols-n_numbers):\n",
    "    password_list.append(random.choice(letters))\n",
    "random.shuffle(password_list)\n",
    "password = \"\"\n",
    "for i in password_list:\n",
    "    password += str(i)\n",
    "print(\"Your generated Password is \"+password)"
   ]
  },
  {
   "cell_type": "code",
   "execution_count": 24,
   "metadata": {},
   "outputs": [
    {
     "data": {
      "text/plain": [
       "['C', 'q', 'u', 'w', 'B', 0, \"'\", 'I', 8, '$']"
      ]
     },
     "execution_count": 24,
     "metadata": {},
     "output_type": "execute_result"
    }
   ],
   "source": [
    "password_list"
   ]
  },
  {
   "cell_type": "code",
   "execution_count": null,
   "metadata": {},
   "outputs": [],
   "source": []
  }
 ],
 "metadata": {
  "kernelspec": {
   "display_name": "Python 3",
   "language": "python",
   "name": "python3"
  },
  "language_info": {
   "codemirror_mode": {
    "name": "ipython",
    "version": 3
   },
   "file_extension": ".py",
   "mimetype": "text/x-python",
   "name": "python",
   "nbconvert_exporter": "python",
   "pygments_lexer": "ipython3",
   "version": "3.8.5"
  }
 },
 "nbformat": 4,
 "nbformat_minor": 4
}
