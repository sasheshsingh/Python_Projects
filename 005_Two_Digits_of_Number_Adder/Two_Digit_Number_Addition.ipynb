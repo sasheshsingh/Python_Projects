{
 "cells": [
  {
   "cell_type": "code",
   "execution_count": 8,
   "metadata": {},
   "outputs": [
    {
     "name": "stdin",
     "output_type": "stream",
     "text": [
      "Enter a two digit number 85\n"
     ]
    },
    {
     "name": "stdout",
     "output_type": "stream",
     "text": [
      "Addition of the two number is 13\n",
      "Addition of the two number in string format is 85\n"
     ]
    }
   ],
   "source": [
    "number = input(\"Enter a two digit number\")\n",
    "\n",
    "first_digit = number[0]\n",
    "second_digit = number[1]\n",
    "result = int(first_digit) + int(second_digit)\n",
    "str_result = first_digit + second_digit\n",
    "print(\"Addition of the two number is \" + str(result))\n",
    "print(\"Addition of the two number in string format is \" + str_result)"
   ]
  }
 ],
 "metadata": {
  "kernelspec": {
   "display_name": "Python 3",
   "language": "python",
   "name": "python3"
  },
  "language_info": {
   "codemirror_mode": {
    "name": "ipython",
    "version": 3
   },
   "file_extension": ".py",
   "mimetype": "text/x-python",
   "name": "python",
   "nbconvert_exporter": "python",
   "pygments_lexer": "ipython3",
   "version": "3.8.5"
  }
 },
 "nbformat": 4,
 "nbformat_minor": 4
}
