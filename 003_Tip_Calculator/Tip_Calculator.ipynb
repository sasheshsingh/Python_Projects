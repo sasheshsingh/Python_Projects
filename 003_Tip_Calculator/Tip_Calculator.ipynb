{
 "cells": [
  {
   "cell_type": "code",
   "execution_count": 19,
   "metadata": {},
   "outputs": [
    {
     "name": "stdout",
     "output_type": "stream",
     "text": [
      "--------------------------------------------------\n",
      "----------Welcome to your Tip Calculator----------\n",
      "--------------------------------------------------\n",
      "--------------------------------------------------\n",
      "\n"
     ]
    },
    {
     "name": "stdin",
     "output_type": "stream",
     "text": [
      "What is amount of the total Bill?\n",
      " 100\n",
      "What percentage tip would you like to give? 5\n",
      "How many people would to split the bill? 3\n"
     ]
    },
    {
     "name": "stdout",
     "output_type": "stream",
     "text": [
      "Each person should pay: 35.00₹\n",
      "\n",
      "--------------------------------------------------\n",
      "--------------------------------------------------\n"
     ]
    }
   ],
   "source": [
    "print(50*\"-\")\n",
    "print(10*\"-\"+\"Welcome to your Tip Calculator\"+\"-\"*10)\n",
    "print(50*\"-\")\n",
    "print(50*\"-\"+\"\\n\")\n",
    "bill = int(input(\"What is amount of the total Bill?\\n\"))\n",
    "percentage = int(input(\"What percentage tip would you like to give?\"))\n",
    "total_people = int(input(\"How many people would to split the bill?\"))\n",
    "tip = bill * percentage / 100\n",
    "bill = (bill+ tip) / total_people\n",
    "bill = \"{:.2f}\".format(bill)\n",
    "print(f\"Each person should pay: {bill}₹\\n\")\n",
    "print(50*\"-\")\n",
    "print(50*\"-\")"
   ]
  },
  {
   "cell_type": "code",
   "execution_count": null,
   "metadata": {},
   "outputs": [],
   "source": []
  }
 ],
 "metadata": {
  "kernelspec": {
   "display_name": "Python 3",
   "language": "python",
   "name": "python3"
  },
  "language_info": {
   "codemirror_mode": {
    "name": "ipython",
    "version": 3
   },
   "file_extension": ".py",
   "mimetype": "text/x-python",
   "name": "python",
   "nbconvert_exporter": "python",
   "pygments_lexer": "ipython3",
   "version": "3.8.5"
  }
 },
 "nbformat": 4,
 "nbformat_minor": 4
}
