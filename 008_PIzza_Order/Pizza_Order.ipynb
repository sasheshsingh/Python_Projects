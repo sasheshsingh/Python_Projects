{
 "cells": [
  {
   "cell_type": "code",
   "execution_count": 16,
   "metadata": {},
   "outputs": [
    {
     "name": "stdout",
     "output_type": "stream",
     "text": [
      "--------------------------------------------------\n",
      "----------Welcome to Desi Pizza Factory----------\n",
      "--------------------------------------------------\n",
      "--------------------------------------------------\n"
     ]
    },
    {
     "name": "stdin",
     "output_type": "stream",
     "text": [
      "What size pizza do you want?\n",
      "S, M, L\n",
      " L\n",
      "Do you want extra cheese?\n",
      "Y or N\n",
      " Y\n",
      "Do you want to add toppings to it?\n",
      " Y or N\n",
      " Y\n"
     ]
    },
    {
     "name": "stdout",
     "output_type": "stream",
     "text": [
      "Your total bill amount is 285 Rs.\n",
      "Thank You for ordering with us.\n",
      "--------------------------------------------------\n"
     ]
    }
   ],
   "source": [
    "print(50*\"-\")\n",
    "print(10 * \"-\" + \"Welcome to Desi Pizza Factory\" + \"-\" * 10)\n",
    "print(50*\"-\")\n",
    "print(50*\"-\")\n",
    "size = input(\"What size pizza do you want?\\nS, M, L\\n\")\n",
    "cheese = input(\"Do you want extra cheese?\\nY or N\\n\")\n",
    "toppings = input(\"Do you want to add toppings to it?\\n Y or N\\n\")\n",
    "total_bill = 0\n",
    "if (size not in [\"S\", \"M\", \"L\"]) or (cheese not in [\"Y\", \"N\"]) or (toppings not in [\"Y\",\"N\"]):\n",
    "    print(\"Invalid entry in your Order\")\n",
    "else:\n",
    "    if size == \"S\":\n",
    "        total_bill += 100\n",
    "    elif size == \"M\":\n",
    "        total_bill += 150\n",
    "    else:\n",
    "        total_bill += 200\n",
    "    \n",
    "    if toppings == \"Y\":\n",
    "        total_bill += 25\n",
    "\n",
    "    if cheese == \"Y\":\n",
    "        if size == \"S\":\n",
    "            total_bill += 30\n",
    "        elif size == \"M\":\n",
    "            total_bill +=50\n",
    "        elif size == \"L\":\n",
    "            total_bill +=60\n",
    "    print(f\"Your total bill amount is {total_bill} Rs.\")\n",
    "print(\"Thank You for ordering with us.\")\n",
    "print(50*\"-\")"
   ]
  },
  {
   "cell_type": "code",
   "execution_count": null,
   "metadata": {},
   "outputs": [],
   "source": []
  }
 ],
 "metadata": {
  "kernelspec": {
   "display_name": "Python 3",
   "language": "python",
   "name": "python3"
  },
  "language_info": {
   "codemirror_mode": {
    "name": "ipython",
    "version": 3
   },
   "file_extension": ".py",
   "mimetype": "text/x-python",
   "name": "python",
   "nbconvert_exporter": "python",
   "pygments_lexer": "ipython3",
   "version": "3.8.5"
  }
 },
 "nbformat": 4,
 "nbformat_minor": 4
}
