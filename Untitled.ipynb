{
 "cells": [
  {
   "cell_type": "code",
   "execution_count": 1,
   "metadata": {},
   "outputs": [
    {
     "name": "stdout",
     "output_type": "stream",
     "text": [
      "Welcome to the Love Calculator\n"
     ]
    },
    {
     "name": "stdin",
     "output_type": "stream",
     "text": [
      "What is your name? Sashesh Singh\n",
      "What is her name? Priyadarshini\n"
     ]
    },
    {
     "name": "stdout",
     "output_type": "stream",
     "text": [
      "Your love score is 30%.\n"
     ]
    }
   ],
   "source": [
    "print(\"Welcome to the Love Calculator\")\n",
    "your_name = input(\"What is your name?\")\n",
    "her_name = input(\"What is her name?\")\n",
    "first_digit = 0\n",
    "second_digit = 0\n",
    "for i in [\"l\",\"o\",\"v\"+\"e\"]:\n",
    "    first_digit += your_name.lower().count(i)\n",
    "    first_digit += her_name.lower().count(i)\n",
    "    \n",
    "for i in [\"t\",\"r\",\"u\",\"e\"]:\n",
    "    second_digit += her_name.lower().count(i)\n",
    "    second_digit += your_name.lower().count(i)\n",
    "    \n",
    "love_score = str(second_digit) + str(first_digit)\n",
    "\n",
    "print(f\"Your love score is {love_score}%.\")"
   ]
  },
  {
   "cell_type": "code",
   "execution_count": null,
   "metadata": {},
   "outputs": [],
   "source": []
  }
 ],
 "metadata": {
  "kernelspec": {
   "display_name": "Python 3",
   "language": "python",
   "name": "python3"
  },
  "language_info": {
   "codemirror_mode": {
    "name": "ipython",
    "version": 3
   },
   "file_extension": ".py",
   "mimetype": "text/x-python",
   "name": "python",
   "nbconvert_exporter": "python",
   "pygments_lexer": "ipython3",
   "version": "3.8.5"
  }
 },
 "nbformat": 4,
 "nbformat_minor": 4
}
