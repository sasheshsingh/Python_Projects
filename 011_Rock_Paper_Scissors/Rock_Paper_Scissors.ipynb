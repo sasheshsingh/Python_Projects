{
 "cells": [
  {
   "cell_type": "code",
   "execution_count": 6,
   "metadata": {},
   "outputs": [
    {
     "name": "stdout",
     "output_type": "stream",
     "text": [
      "----------------------------------------\n",
      "Welcome to Rock Paper Scissor Game\n",
      "----------------------------------------\n"
     ]
    },
    {
     "name": "stdin",
     "output_type": "stream",
     "text": [
      "Enter Your Choice for the Game.\n",
      "1 for Rock\n",
      "2 for Paper\n",
      "3 for Scissor\n",
      " 3\n"
     ]
    },
    {
     "name": "stdout",
     "output_type": "stream",
     "text": [
      "Your choice is Scissor and Computer`choise is Rock.\n",
      "You lose the Game. Try Again\n"
     ]
    }
   ],
   "source": [
    "import random\n",
    "print(40*\"-\")\n",
    "print(\"Welcome to Rock Paper Scissor Game\")\n",
    "print(40*\"-\")\n",
    "choices = [\"Rock\", \"Paper\", \"Scissor\"]\n",
    "computer_choice = random.randint(1,3)\n",
    "player_choice = int(input(\"Enter Your Choice for the Game.\\n1 for Rock\\n2 for Paper\\n3 for Scissor\\n\"))\n",
    "if player_choice not in [1, 2, 3]:\n",
    "    print(\"Invalid Input for the Game\\n\")\n",
    "else:\n",
    "    print(f\"Your choice is {choices[player_choice - 1]} and Computer`choise is {choices[computer_choice - 1]}.\")\n",
    "    if player_choice == computer_choice:\n",
    "        print(\"Both the choices are same.\")\n",
    "    elif (player_choice == 1 and computer_choice == 3) or (player_choice == 3 and computer_choice == 2) or (player_choice == 2 and computer_choice == 1):\n",
    "        print(\"Congrats. You won the Game.\")\n",
    "    else:\n",
    "        print(\"You lose the Game. Try Again\")"
   ]
  }
 ],
 "metadata": {
  "kernelspec": {
   "display_name": "Python 3",
   "language": "python",
   "name": "python3"
  },
  "language_info": {
   "codemirror_mode": {
    "name": "ipython",
    "version": 3
   },
   "file_extension": ".py",
   "mimetype": "text/x-python",
   "name": "python",
   "nbconvert_exporter": "python",
   "pygments_lexer": "ipython3",
   "version": "3.8.5"
  }
 },
 "nbformat": 4,
 "nbformat_minor": 4
}
