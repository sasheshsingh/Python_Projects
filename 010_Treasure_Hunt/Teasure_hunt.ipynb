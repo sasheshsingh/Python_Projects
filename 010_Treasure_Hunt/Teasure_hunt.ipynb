{
 "cells": [
  {
   "cell_type": "code",
   "execution_count": 14,
   "metadata": {},
   "outputs": [
    {
     "name": "stdout",
     "output_type": "stream",
     "text": [
      "['█', '█', '█']\n",
      "['█', '█', '█']\n",
      "['█', '█', '█']\n"
     ]
    },
    {
     "name": "stdin",
     "output_type": "stream",
     "text": [
      "Where do you want to put the treasure? 13\n"
     ]
    },
    {
     "name": "stdout",
     "output_type": "stream",
     "text": [
      "['█', '█', 'X']\n",
      "['█', '█', '█']\n",
      "['█', '█', '█']\n"
     ]
    }
   ],
   "source": [
    "# row1 = [\"\"]\n",
    "row1 = [\"█\", \"█\", \"█\"]\n",
    "row2 = [\"█\", \"█\", \"█\"]\n",
    "row3 = [\"█\", \"█\", \"█\"]\n",
    "map = [row1, row2, row3]\n",
    "print(f\"{row1}\\n{row2}\\n{row3}\")\n",
    "position = input(\"Where do you want to put the treasure?\")\n",
    "horizontal = int(position[0])\n",
    "vertical = int(position[1])\n",
    "selected_row = map[horizontal-1]\n",
    "selected_row[vertical -1] = \"X\"\n",
    "print(f\"{row1}\\n{row2}\\n{row3}\")"
   ]
  },
  {
   "cell_type": "code",
   "execution_count": null,
   "metadata": {},
   "outputs": [],
   "source": []
  }
 ],
 "metadata": {
  "kernelspec": {
   "display_name": "Python 3",
   "language": "python",
   "name": "python3"
  },
  "language_info": {
   "codemirror_mode": {
    "name": "ipython",
    "version": 3
   },
   "file_extension": ".py",
   "mimetype": "text/x-python",
   "name": "python",
   "nbconvert_exporter": "python",
   "pygments_lexer": "ipython3",
   "version": "3.8.5"
  }
 },
 "nbformat": 4,
 "nbformat_minor": 4
}
