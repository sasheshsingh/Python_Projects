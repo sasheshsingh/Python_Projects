{
 "cells": [
  {
   "cell_type": "code",
   "execution_count": 8,
   "metadata": {},
   "outputs": [
    {
     "name": "stdin",
     "output_type": "stream",
     "text": [
      "Enter your weight in kg\n",
      " 73\n",
      "Enter your height in m:\n",
      " 1.67\n"
     ]
    },
    {
     "name": "stdout",
     "output_type": "stream",
     "text": [
      "Your BMI is 26.17\n"
     ]
    }
   ],
   "source": [
    "weight = float(input(\"Enter your weight in kg\\n\"))\n",
    "height = float(input(\"Enter your height in m:\\n\"))\n",
    "\n",
    "bmi = weight / pow(height,2)\n",
    "#Or\n",
    "bmi = weight / height ** 2\n",
    "#Or\n",
    "bmi = weight / (height * height)\n",
    "\n",
    "print(\"Your BMI is \" + str(bmi)[:5])"
   ]
  },
  {
   "cell_type": "code",
   "execution_count": null,
   "metadata": {},
   "outputs": [],
   "source": []
  }
 ],
 "metadata": {
  "kernelspec": {
   "display_name": "Python 3",
   "language": "python",
   "name": "python3"
  },
  "language_info": {
   "codemirror_mode": {
    "name": "ipython",
    "version": 3
   },
   "file_extension": ".py",
   "mimetype": "text/x-python",
   "name": "python",
   "nbconvert_exporter": "python",
   "pygments_lexer": "ipython3",
   "version": "3.8.5"
  }
 },
 "nbformat": 4,
 "nbformat_minor": 4
}
