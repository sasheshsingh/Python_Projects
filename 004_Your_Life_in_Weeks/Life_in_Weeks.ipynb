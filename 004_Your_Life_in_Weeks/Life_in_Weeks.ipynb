{
 "cells": [
  {
   "cell_type": "code",
   "execution_count": 8,
   "metadata": {},
   "outputs": [
    {
     "name": "stdin",
     "output_type": "stream",
     "text": [
      "What is your age?\n",
      " 12\n"
     ]
    },
    {
     "name": "stdout",
     "output_type": "stream",
     "text": [
      "You have lived 52416 days or 7488 weeks or 144 months of your life.\n"
     ]
    }
   ],
   "source": [
    "age = int(input(\"What is your age?\\n\"))\n",
    "\n",
    "age_in_month = age*12\n",
    "age_in_week = age_in_month*52\n",
    "age_in_days = age_in_week*7\n",
    "\n",
    "print(f\"You have lived {age_in_days} days or {age_in_week} weeks or {age_in_month} months of your life.\")"
   ]
  },
  {
   "cell_type": "code",
   "execution_count": null,
   "metadata": {},
   "outputs": [],
   "source": []
  }
 ],
 "metadata": {
  "kernelspec": {
   "display_name": "Python 3",
   "language": "python",
   "name": "python3"
  },
  "language_info": {
   "codemirror_mode": {
    "name": "ipython",
    "version": 3
   },
   "file_extension": ".py",
   "mimetype": "text/x-python",
   "name": "python",
   "nbconvert_exporter": "python",
   "pygments_lexer": "ipython3",
   "version": "3.8.5"
  }
 },
 "nbformat": 4,
 "nbformat_minor": 4
}
